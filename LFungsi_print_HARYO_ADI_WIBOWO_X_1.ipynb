{
  "nbformat": 4,
  "nbformat_minor": 0,
  "metadata": {
    "colab": {
      "provenance": [],
      "authorship_tag": "ABX9TyNOzpLmKXYKOsExJrUNyWYS",
      "include_colab_link": true
    },
    "kernelspec": {
      "name": "python3",
      "display_name": "Python 3"
    },
    "language_info": {
      "name": "python"
    }
  },
  "cells": [
    {
      "cell_type": "markdown",
      "metadata": {
        "id": "view-in-github",
        "colab_type": "text"
      },
      "source": [
        "<a href=\"https://colab.research.google.com/github/haryoadiwibowo/Haryo-Adi-wibowo/blob/main/LFungsi_print_HARYO_ADI_WIBOWO_X_1.ipynb\" target=\"_parent\"><img src=\"https://colab.research.google.com/assets/colab-badge.svg\" alt=\"Open In Colab\"/></a>"
      ]
    },
    {
      "cell_type": "code",
      "execution_count": null,
      "metadata": {
        "id": "qcVgsNlBzqNP"
      },
      "outputs": [],
      "source": []
    },
    {
      "cell_type": "markdown",
      "source": [
        "Nama=Haryo Adi Wibowo\n",
        "Kelas=x-1\n",
        "Absen=13"
      ],
      "metadata": {
        "id": "WzsoI7pN2B25"
      }
    },
    {
      "cell_type": "markdown",
      "source": [
        "MENAMPILKAN TEKS BEBAS"
      ],
      "metadata": {
        "id": "sIlAHH0W3-28"
      }
    },
    {
      "cell_type": "code",
      "source": [
        "print=(\"Haryo Adi Wibowo\")\n"
      ],
      "metadata": {
        "id": "4Ogj9_pW4rcE"
      },
      "execution_count": null,
      "outputs": []
    },
    {
      "cell_type": "markdown",
      "source": [
        "Menampilkan Nilai Variabel"
      ],
      "metadata": {
        "id": "yNOF5pT76dDn"
      }
    },
    {
      "cell_type": "code",
      "source": [
        "nama_idola = \"hannan attaki\"\n",
        "\n",
        "print=(\"nama_idola\")"
      ],
      "metadata": {
        "id": "Tq04d0ba72Tc"
      },
      "execution_count": 3,
      "outputs": []
    },
    {
      "cell_type": "code",
      "source": [
        "usia_idola = 15\n",
        "\n",
        "print=(usia_idola)"
      ],
      "metadata": {
        "id": "n9wpN-et8VlJ"
      },
      "execution_count": 4,
      "outputs": []
    },
    {
      "cell_type": "code",
      "source": [
        "jumlah_saudara = 3\n",
        "print=(jumlah_saudara)"
      ],
      "metadata": {
        "id": "pyT6LbiXABEo"
      },
      "execution_count": 9,
      "outputs": []
    },
    {
      "cell_type": "code",
      "source": [
        "nama_saudara=\"Imam\"\n",
        "print=(\"nama_saudara\")"
      ],
      "metadata": {
        "id": "3_JdelCcCGej"
      },
      "execution_count": 10,
      "outputs": []
    },
    {
      "cell_type": "markdown",
      "source": [
        "Bagian Baru"
      ],
      "metadata": {
        "id": "BDM9S317ALtC"
      }
    },
    {
      "cell_type": "markdown",
      "source": [
        "Bagian Baru"
      ],
      "metadata": {
        "id": "yTD6QkNjAOpu"
      }
    },
    {
      "cell_type": "markdown",
      "source": [
        "Latihan Soal"
      ],
      "metadata": {
        "id": "wLhhwiASATmZ"
      }
    },
    {
      "cell_type": "markdown",
      "source": [
        " Bagian Baru"
      ],
      "metadata": {
        "id": "LTOiPMDOAYvt"
      }
    },
    {
      "cell_type": "code",
      "source": [
        "1. Buat variabel nama saudara & tampilan\n",
        "2. Buat variabel nama jumalh saudara & tampilan"
      ],
      "metadata": {
        "id": "_tEk4gS1AgBb"
      },
      "execution_count": null,
      "outputs": []
    },
    {
      "cell_type": "markdown",
      "source": [
        "Menampilkan Nilai Variabel Dan String"
      ],
      "metadata": {
        "id": "FDTsmMFH3rTi"
      }
    },
    {
      "cell_type": "code",
      "source": [
        "print(f\"Nama idola saya adalah {nama_idola}. Usianya adalah {usia_idola} tahun.\")"
      ],
      "metadata": {
        "id": "Jgz3LgSY6wZp"
      },
      "execution_count": null,
      "outputs": []
    },
    {
      "cell_type": "markdown",
      "source": [
        "Escape String"
      ],
      "metadata": {
        "id": "JbQezA9t9kFE"
      }
    },
    {
      "cell_type": "code",
      "source": [
        "print(\"Nama:Haryo\")\n",
        "print(\"Kelas:x.1\")\n",
        "print(\"No. Absen:13\")"
      ],
      "metadata": {
        "id": "6NksBYrL9oUb"
      },
      "execution_count": null,
      "outputs": []
    },
    {
      "cell_type": "code",
      "source": [
        "print(\"\"\"Nama\\t\\t:Haryo\\nKelas\\t\\t: X.1\\nNo. Absen\\t\\: 13\"\"\")"
      ],
      "metadata": {
        "colab": {
          "base_uri": "https://localhost:8080/"
        },
        "id": "TTnXvws6_ysI",
        "outputId": "e1b5ee74-ee1b-441b-9cc4-253b552ea526",
        "collapsed": true
      },
      "execution_count": 1,
      "outputs": [
        {
          "output_type": "stream",
          "name": "stdout",
          "text": [
            "Nama\t\t:Haryo\n",
            "Kelas\t\t: X.1\n",
            "No. Absen\t\\: 13\n"
          ]
        },
        {
          "output_type": "stream",
          "name": "stderr",
          "text": [
            "<>:1: SyntaxWarning: invalid escape sequence '\\:'\n",
            "<>:1: SyntaxWarning: invalid escape sequence '\\:'\n",
            "/tmp/ipython-input-879669969.py:1: SyntaxWarning: invalid escape sequence '\\:'\n",
            "  print(\"\"\"Nama\\t\\t:Haryo\\nKelas\\t\\t: X.1\\nNo. Absen\\t\\: 13\"\"\")\n"
          ]
        }
      ]
    }
  ]
}